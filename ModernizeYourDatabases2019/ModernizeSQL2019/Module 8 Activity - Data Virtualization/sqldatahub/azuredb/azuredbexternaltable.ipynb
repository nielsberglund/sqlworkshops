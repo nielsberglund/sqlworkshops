{
    "metadata": {
        "kernelspec": {
            "name": "SQL",
            "display_name": "SQL",
            "language": "sql"
        },
        "language_info": {
            "name": "sql",
            "version": ""
        }
    },
    "nbformat_minor": 2,
    "nbformat": 4,
    "cells": [
        {
            "cell_type": "markdown",
            "source": "# SQL Server 2019 Data Virtualization - Using Polybase to query Azure SQL Database\r\nThis notebook contains an example of how to use external tables to query data in Azure SQL Database without moving data. This example assumes you have access to an Azure SQL Database named wwiazure and that a table has been created to match the EXTERNAL TABLE in this notebook. You may need to change identity, secret, connection, database, schema, and remote table names to work with your Azure SQL Database.\r\n\r\nThis notebook also assumes you are using SQL Server 2019 CTP 3.1 or later and that the Polybase feature has been installed and enabled.\r\n\r\nThis notebook uses the sample WideWorldImporters sample database but can be used with any user database.",
            "metadata": {}
        },
        {
            "cell_type": "markdown",
            "source": "## Step 1: Create a master key\r\nCreate a master key to encrypt the database credential",
            "metadata": {}
        },
        {
            "cell_type": "code",
            "source": "USE [WideWorldImporters]\r\nGO\r\nCREATE MASTER KEY ENCRYPTION BY PASSWORD = 'S0me!nfo'\r\nGO",
            "metadata": {},
            "outputs": [],
            "execution_count": 0
        },
        {
            "cell_type": "markdown",
            "source": "## Step 2: Create a database credential.\r\nThe database credential contains the IDENTITY (login) and SECRET (password) of the remote Azure SQL Database serve ror Managed Instance. Change this to the login and password for your server.",
            "metadata": {}
        },
        {
            "cell_type": "code",
            "source": "CREATE DATABASE SCOPED CREDENTIAL AzureSQLDatabaseCredentials   \r\nWITH IDENTITY = '<login>', SECRET = '<password>'\r\nGO",
            "metadata": {},
            "outputs": [],
            "execution_count": 0
        },
        {
            "cell_type": "markdown",
            "source": "## Step 3: Create an EXTERNAL DATA SOURCE\r\nThe EXTERNAL DATA SOURCE indicates what type of data source, the connection \"string\", where PUSHDOWN predicates should be used (if possible), and the name of the database credential.\r\n\r\nThe LOCATION syntax is <datasourcetype>:<connection string>.\r\n\r\ndatasourcetype can be sqlserver, oracle, teradata, mongodb, or odbc (Windows only)\r\nThe connection string depends on the datasourcetype\r\n\r\nFor this example, put in the name of the Azure SQL Server database server or Managed instance",
            "metadata": {}
        },
        {
            "cell_type": "code",
            "source": "CREATE EXTERNAL DATA SOURCE AzureSQLDatabase\r\nWITH ( \r\nLOCATION = 'sqlserver://<azure sql database server URI>',\r\nPUSHDOWN = ON,\r\nCREDENTIAL = AzureSQLDatabaseCredentials\r\n)\r\nGO",
            "metadata": {},
            "outputs": [],
            "execution_count": 0
        },
        {
            "cell_type": "markdown",
            "source": "## Step 4: Create a schema for the EXTERNAL TABLE\r\nSchemas provide convenient methods to secure and organize objects",
            "metadata": {}
        },
        {
            "cell_type": "code",
            "source": "CREATE SCHEMA azuresqldb\r\nGO",
            "metadata": {},
            "outputs": [],
            "execution_count": 0
        },
        {
            "cell_type": "markdown",
            "source": "## Step 5: Create an EXTERNAL TABLE\r\nAn external table provides metadata so SQL Server knows how to map columns to the remote table. The name of the table and columns names for the external table can be your choice. But the columns must be specified in the same order as they are defined in the remote table. Furthermore, local data types must be compatible with the remote table.\r\n\r\nThe WITH clause specifies a LOCATION. This LOCATION is different than the EXTERNAL DATA SOURCE. This LOCATION indicates the [database].[schema].[table] of the remote table. The DATA_SOURCE clauses is the name of the EXTERNAL DATA SOURCE you created earlier.",
            "metadata": {}
        },
        {
            "cell_type": "code",
            "source": "CREATE EXTERNAL TABLE azuresqldb.ModernStockItems\r\n(\r\n\t[StockItemID] [int] NOT NULL,\r\n\t[StockItemName] [nvarchar](100) COLLATE Latin1_General_100_CI_AS NOT NULL,\r\n\t[SupplierID] [int] NOT NULL,\r\n\t[ColorID] [int] NULL,\r\n\t[UnitPackageID] [int] NOT NULL,\r\n\t[OuterPackageID] [int] NOT NULL,\r\n\t[Brand] [nvarchar](50) COLLATE Latin1_General_100_CI_AS NULL,\r\n\t[Size] [nvarchar](20) COLLATE Latin1_General_100_CI_AS NULL,\r\n\t[LeadTimeDays] [int] NOT NULL,\r\n\t[QuantityPerOuter] [int] NOT NULL,\r\n\t[IsChillerStock] [bit] NOT NULL,\r\n\t[Barcode] [nvarchar](50) COLLATE Latin1_General_100_CI_AS NULL,\r\n\t[TaxRate] [decimal](18, 3) NOT NULL,\r\n\t[UnitPrice] [decimal](18, 2) NOT NULL,\r\n\t[RecommendedRetailPrice] [decimal](18, 2) NULL,\r\n\t[TypicalWeightPerUnit] [decimal](18, 3) NOT NULL,\r\n\t[LastEditedBy] [int] NOT NULL\r\n)\r\n WITH (\r\n LOCATION='wwiazure.dbo.ModernStockItems',\r\n DATA_SOURCE=AzureSQLDatabase\r\n)\r\nGO",
            "metadata": {},
            "outputs": [],
            "execution_count": 0
        },
        {
            "cell_type": "markdown",
            "source": "## Step 6: Create statistics\r\nSQL Server allows you to store local statistics about specific columns from the remote table. This can help the query processing to make more efficient plan decisions.",
            "metadata": {}
        },
        {
            "cell_type": "code",
            "source": "CREATE STATISTICS ModernStockItemsStats ON azuresqldb.ModernStockItems ([StockItemID]) WITH FULLSCAN\r\nGO",
            "metadata": {},
            "outputs": [],
            "execution_count": 0
        },
        {
            "cell_type": "markdown",
            "source": "## Step 7: Try to scan the remote table\r\nRun a simple query on the EXTERNAL TABLE to scan all rows.",
            "metadata": {}
        },
        {
            "cell_type": "code",
            "source": "SELECT * FROM azuresqldb.ModernStockItems\r\nGO",
            "metadata": {},
            "outputs": [],
            "execution_count": 0
        },
        {
            "cell_type": "markdown",
            "source": "## Step 8: Query the remote table with a WHERE clause\r\nEven though the table may be small SQL Server will \"push\" the WHERE clause filter to the remote table",
            "metadata": {}
        },
        {
            "cell_type": "code",
            "source": "SELECT * FROM azuresqldb.ModernStockItems WHERE StockItemID = 100000\r\nGO",
            "metadata": {},
            "outputs": [],
            "execution_count": 0
        },
        {
            "cell_type": "markdown",
            "source": "## Step 9: Join with local SQL Server tables\r\nUse a UNION to find all stockitems for a specific supplier both locally and in the Azure table",
            "metadata": {}
        },
        {
            "cell_type": "code",
            "source": "SELECT msi.StockItemName, msi.Brand, c.ColorName\r\nFROM azuresqldb.ModernStockItems msi\r\nJOIN [Purchasing].[Suppliers] s\r\nON msi.SupplierID = s.SupplierID\r\nand s.SupplierName = 'Graphic Design Institute'\r\nJOIN [Warehouse].[Colors] c\r\nON msi.ColorID = c.ColorID\r\nUNION\r\nSELECT si.StockItemName, si.Brand, c.ColorName\r\nFROM [Warehouse].[StockItems] si\r\nJOIN [Purchasing].[Suppliers] s\r\nON si.SupplierID = s.SupplierID\r\nand s.SupplierName = 'Graphic Design Institute'\r\nJOIN [Warehouse].[Colors] c\r\nON si.ColorID = c.ColorID\r\nGO",
            "metadata": {},
            "outputs": [],
            "execution_count": 0
        },
        {
            "cell_type": "markdown",
            "source": "",
            "metadata": {}
        }
    ]
}